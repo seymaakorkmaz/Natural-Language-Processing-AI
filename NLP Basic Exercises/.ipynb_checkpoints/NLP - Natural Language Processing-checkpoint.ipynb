{
 "cells": [
  {
   "cell_type": "markdown",
   "id": "2b140990",
   "metadata": {},
   "source": [
    "# <font color:r> Natural Language Processing"
   ]
  },
  {
   "cell_type": "code",
   "execution_count": 1,
   "id": "a95a1ccc",
   "metadata": {
    "collapsed": true
   },
   "outputs": [
    {
     "name": "stdout",
     "output_type": "stream",
     "text": [
      "Requirement already satisfied: nltk in c:\\users\\seyma\\anaconda3\\lib\\site-packages (3.7)\n",
      "Requirement already satisfied: click in c:\\users\\seyma\\anaconda3\\lib\\site-packages (from nltk) (8.0.4)\n",
      "Requirement already satisfied: joblib in c:\\users\\seyma\\anaconda3\\lib\\site-packages (from nltk) (1.1.0)\n",
      "Requirement already satisfied: regex>=2021.8.3 in c:\\users\\seyma\\anaconda3\\lib\\site-packages (from nltk) (2022.3.15)\n",
      "Requirement already satisfied: tqdm in c:\\users\\seyma\\anaconda3\\lib\\site-packages (from nltk) (4.64.0)\n",
      "Requirement already satisfied: colorama in c:\\users\\seyma\\anaconda3\\lib\\site-packages (from click->nltk) (0.4.4)\n",
      "Note: you may need to restart the kernel to use updated packages.\n"
     ]
    }
   ],
   "source": [
    "pip install nltk\n",
    "#natural language toolkit"
   ]
  },
  {
   "cell_type": "code",
   "execution_count": 3,
   "id": "6366b346",
   "metadata": {},
   "outputs": [],
   "source": [
    "import nltk"
   ]
  },
  {
   "cell_type": "code",
   "execution_count": 4,
   "id": "06a0e74d",
   "metadata": {
    "collapsed": true
   },
   "outputs": [
    {
     "name": "stderr",
     "output_type": "stream",
     "text": [
      "[nltk_data] Downloading package punkt to\n",
      "[nltk_data]     C:\\Users\\Seyma\\AppData\\Roaming\\nltk_data...\n",
      "[nltk_data]   Package punkt is already up-to-date!\n"
     ]
    },
    {
     "data": {
      "text/plain": [
       "True"
      ]
     },
     "execution_count": 4,
     "metadata": {},
     "output_type": "execute_result"
    }
   ],
   "source": [
    "nltk.download(\"punkt\")"
   ]
  },
  {
   "cell_type": "code",
   "execution_count": 5,
   "id": "54187845",
   "metadata": {},
   "outputs": [],
   "source": [
    "cumle = \"Yaylaya gitmişti yayla zamanı, Gülizar döndü de Döndü dönmedi\""
   ]
  },
  {
   "cell_type": "code",
   "execution_count": 6,
   "id": "40f08421",
   "metadata": {},
   "outputs": [
    {
     "data": {
      "text/plain": [
       "'YAYLAYA GITMIŞTI YAYLA ZAMANI, GÜLIZAR DÖNDÜ DE DÖNDÜ DÖNMEDI'"
      ]
     },
     "execution_count": 6,
     "metadata": {},
     "output_type": "execute_result"
    }
   ],
   "source": [
    "cumle.upper()"
   ]
  },
  {
   "cell_type": "code",
   "execution_count": 7,
   "id": "b84db7fc",
   "metadata": {},
   "outputs": [
    {
     "data": {
      "text/plain": [
       "'yaylaya gitmişti yayla zamanı, gülizar döndü de döndü dönmedi'"
      ]
     },
     "execution_count": 7,
     "metadata": {},
     "output_type": "execute_result"
    }
   ],
   "source": [
    "cumle.lower()"
   ]
  },
  {
   "cell_type": "code",
   "execution_count": 8,
   "id": "deee1642",
   "metadata": {
    "scrolled": true
   },
   "outputs": [],
   "source": [
    "x = cumle.split()"
   ]
  },
  {
   "cell_type": "code",
   "execution_count": 9,
   "id": "e088d33e",
   "metadata": {},
   "outputs": [
    {
     "data": {
      "text/plain": [
       "'zamanı,'"
      ]
     },
     "execution_count": 9,
     "metadata": {},
     "output_type": "execute_result"
    }
   ],
   "source": [
    "cumle.split()[3]"
   ]
  },
  {
   "cell_type": "code",
   "execution_count": 10,
   "id": "7ba29212",
   "metadata": {},
   "outputs": [
    {
     "data": {
      "text/plain": [
       "'zamanı,'"
      ]
     },
     "execution_count": 10,
     "metadata": {},
     "output_type": "execute_result"
    }
   ],
   "source": [
    "x[3]"
   ]
  },
  {
   "cell_type": "code",
   "execution_count": 11,
   "id": "e1f7be65",
   "metadata": {},
   "outputs": [],
   "source": [
    "from nltk.tokenize import sent_tokenize"
   ]
  },
  {
   "cell_type": "code",
   "execution_count": 12,
   "id": "972a75c6",
   "metadata": {},
   "outputs": [],
   "source": [
    "text = \"I love python. Zafer lives in a small village. Please call a back.\""
   ]
  },
  {
   "cell_type": "code",
   "execution_count": 13,
   "id": "0f781089",
   "metadata": {},
   "outputs": [
    {
     "data": {
      "text/plain": [
       "['I love python', ' Zafer lives in a small village', ' Please call a back', '']"
      ]
     },
     "execution_count": 13,
     "metadata": {},
     "output_type": "execute_result"
    }
   ],
   "source": [
    "text.split(\".\")"
   ]
  },
  {
   "cell_type": "code",
   "execution_count": 14,
   "id": "053c6439",
   "metadata": {},
   "outputs": [
    {
     "data": {
      "text/plain": [
       "' Please call a back'"
      ]
     },
     "execution_count": 14,
     "metadata": {},
     "output_type": "execute_result"
    }
   ],
   "source": [
    "text.split(\".\")[2]"
   ]
  },
  {
   "cell_type": "code",
   "execution_count": 15,
   "id": "7cbc0032",
   "metadata": {},
   "outputs": [
    {
     "data": {
      "text/plain": [
       "['I love python.', 'Zafer lives in a small village.', 'Please call a back.']"
      ]
     },
     "execution_count": 15,
     "metadata": {},
     "output_type": "execute_result"
    }
   ],
   "source": [
    "sent_tokenize(text)"
   ]
  },
  {
   "cell_type": "code",
   "execution_count": 16,
   "id": "b270d424",
   "metadata": {},
   "outputs": [],
   "source": [
    "from nltk.tokenize import word_tokenize"
   ]
  },
  {
   "cell_type": "code",
   "execution_count": 17,
   "id": "8c303b40",
   "metadata": {},
   "outputs": [
    {
     "data": {
      "text/plain": [
       "['I',\n",
       " 'love',\n",
       " 'python',\n",
       " '.',\n",
       " 'Zafer',\n",
       " 'lives',\n",
       " 'in',\n",
       " 'a',\n",
       " 'small',\n",
       " 'village',\n",
       " '.',\n",
       " 'Please',\n",
       " 'call',\n",
       " 'a',\n",
       " 'back',\n",
       " '.']"
      ]
     },
     "execution_count": 17,
     "metadata": {},
     "output_type": "execute_result"
    }
   ],
   "source": [
    "word_tokenize(text)"
   ]
  },
  {
   "cell_type": "code",
   "execution_count": 18,
   "id": "b27215d1",
   "metadata": {},
   "outputs": [
    {
     "data": {
      "text/plain": [
       "'python'"
      ]
     },
     "execution_count": 18,
     "metadata": {},
     "output_type": "execute_result"
    }
   ],
   "source": [
    "word_tokenize(text)[2]"
   ]
  },
  {
   "cell_type": "code",
   "execution_count": 19,
   "id": "b820afc1",
   "metadata": {},
   "outputs": [],
   "source": [
    "from nltk.tokenize import TreebankWordTokenizer"
   ]
  },
  {
   "cell_type": "code",
   "execution_count": 20,
   "id": "f0eb303e",
   "metadata": {},
   "outputs": [],
   "source": [
    "T = TreebankWordTokenizer()"
   ]
  },
  {
   "cell_type": "code",
   "execution_count": 21,
   "id": "c27cef3e",
   "metadata": {},
   "outputs": [
    {
     "data": {
      "text/plain": [
       "['I',\n",
       " 'love',\n",
       " 'python.',\n",
       " 'Zafer',\n",
       " 'lives',\n",
       " 'in',\n",
       " 'a',\n",
       " 'small',\n",
       " 'village.',\n",
       " 'Please',\n",
       " 'call',\n",
       " 'a',\n",
       " 'back',\n",
       " '.']"
      ]
     },
     "execution_count": 21,
     "metadata": {},
     "output_type": "execute_result"
    }
   ],
   "source": [
    "T.tokenize(text)"
   ]
  },
  {
   "cell_type": "code",
   "execution_count": 22,
   "id": "0bdee280",
   "metadata": {},
   "outputs": [
    {
     "data": {
      "text/plain": [
       "'lives'"
      ]
     },
     "execution_count": 22,
     "metadata": {},
     "output_type": "execute_result"
    }
   ],
   "source": [
    "T.tokenize(text)[4]"
   ]
  },
  {
   "cell_type": "code",
   "execution_count": 23,
   "id": "782aedcd",
   "metadata": {},
   "outputs": [],
   "source": [
    "#stopwords -  gereksiz kelimeler"
   ]
  },
  {
   "cell_type": "code",
   "execution_count": 24,
   "id": "ed9ca225",
   "metadata": {
    "collapsed": true
   },
   "outputs": [
    {
     "name": "stderr",
     "output_type": "stream",
     "text": [
      "[nltk_data] Downloading package stopwords to\n",
      "[nltk_data]     C:\\Users\\Seyma\\AppData\\Roaming\\nltk_data...\n",
      "[nltk_data]   Package stopwords is already up-to-date!\n"
     ]
    },
    {
     "data": {
      "text/plain": [
       "True"
      ]
     },
     "execution_count": 24,
     "metadata": {},
     "output_type": "execute_result"
    }
   ],
   "source": [
    "nltk.download(\"stopwords\")"
   ]
  },
  {
   "cell_type": "code",
   "execution_count": 25,
   "id": "4f5a3343",
   "metadata": {
    "collapsed": true
   },
   "outputs": [
    {
     "name": "stdout",
     "output_type": "stream",
     "text": [
      "['i', 'me', 'my', 'myself', 'we', 'our', 'ours', 'ourselves', 'you', \"you're\", \"you've\", \"you'll\", \"you'd\", 'your', 'yours', 'yourself', 'yourselves', 'he', 'him', 'his', 'himself', 'she', \"she's\", 'her', 'hers', 'herself', 'it', \"it's\", 'its', 'itself', 'they', 'them', 'their', 'theirs', 'themselves', 'what', 'which', 'who', 'whom', 'this', 'that', \"that'll\", 'these', 'those', 'am', 'is', 'are', 'was', 'were', 'be', 'been', 'being', 'have', 'has', 'had', 'having', 'do', 'does', 'did', 'doing', 'a', 'an', 'the', 'and', 'but', 'if', 'or', 'because', 'as', 'until', 'while', 'of', 'at', 'by', 'for', 'with', 'about', 'against', 'between', 'into', 'through', 'during', 'before', 'after', 'above', 'below', 'to', 'from', 'up', 'down', 'in', 'out', 'on', 'off', 'over', 'under', 'again', 'further', 'then', 'once', 'here', 'there', 'when', 'where', 'why', 'how', 'all', 'any', 'both', 'each', 'few', 'more', 'most', 'other', 'some', 'such', 'no', 'nor', 'not', 'only', 'own', 'same', 'so', 'than', 'too', 'very', 's', 't', 'can', 'will', 'just', 'don', \"don't\", 'should', \"should've\", 'now', 'd', 'll', 'm', 'o', 're', 've', 'y', 'ain', 'aren', \"aren't\", 'couldn', \"couldn't\", 'didn', \"didn't\", 'doesn', \"doesn't\", 'hadn', \"hadn't\", 'hasn', \"hasn't\", 'haven', \"haven't\", 'isn', \"isn't\", 'ma', 'mightn', \"mightn't\", 'mustn', \"mustn't\", 'needn', \"needn't\", 'shan', \"shan't\", 'shouldn', \"shouldn't\", 'wasn', \"wasn't\", 'weren', \"weren't\", 'won', \"won't\", 'wouldn', \"wouldn't\"]\n"
     ]
    }
   ],
   "source": [
    "print(nltk.corpus.stopwords.words(\"english\"))"
   ]
  },
  {
   "cell_type": "code",
   "execution_count": 26,
   "id": "bb11947e",
   "metadata": {
    "collapsed": true
   },
   "outputs": [
    {
     "name": "stdout",
     "output_type": "stream",
     "text": [
      "['acaba', 'ama', 'aslında', 'az', 'bazı', 'belki', 'biri', 'birkaç', 'birşey', 'biz', 'bu', 'çok', 'çünkü', 'da', 'daha', 'de', 'defa', 'diye', 'eğer', 'en', 'gibi', 'hem', 'hep', 'hepsi', 'her', 'hiç', 'için', 'ile', 'ise', 'kez', 'ki', 'kim', 'mı', 'mu', 'mü', 'nasıl', 'ne', 'neden', 'nerde', 'nerede', 'nereye', 'niçin', 'niye', 'o', 'sanki', 'şey', 'siz', 'şu', 'tüm', 've', 'veya', 'ya', 'yani']\n"
     ]
    }
   ],
   "source": [
    "print(nltk.corpus.stopwords.words(\"turkish\"))"
   ]
  },
  {
   "cell_type": "code",
   "execution_count": 27,
   "id": "18b01314",
   "metadata": {},
   "outputs": [],
   "source": [
    "from nltk.stem import PorterStemmer"
   ]
  },
  {
   "cell_type": "code",
   "execution_count": 28,
   "id": "1dbc41b9",
   "metadata": {},
   "outputs": [],
   "source": [
    "P = PorterStemmer()"
   ]
  },
  {
   "cell_type": "code",
   "execution_count": 29,
   "id": "509df3f1",
   "metadata": {},
   "outputs": [
    {
     "data": {
      "text/plain": [
       "'happi'"
      ]
     },
     "execution_count": 29,
     "metadata": {},
     "output_type": "execute_result"
    }
   ],
   "source": [
    "P.stem(\"Happiness\")"
   ]
  },
  {
   "cell_type": "code",
   "execution_count": 30,
   "id": "64fb6239",
   "metadata": {},
   "outputs": [],
   "source": [
    "from nltk.stem import LancasterStemmer"
   ]
  },
  {
   "cell_type": "code",
   "execution_count": 31,
   "id": "b68c268f",
   "metadata": {},
   "outputs": [],
   "source": [
    "L = LancasterStemmer()\n",
    "#kelimenin kökünü buluyor"
   ]
  },
  {
   "cell_type": "code",
   "execution_count": 32,
   "id": "13dbfee3",
   "metadata": {},
   "outputs": [
    {
     "data": {
      "text/plain": [
       "'happy'"
      ]
     },
     "execution_count": 32,
     "metadata": {},
     "output_type": "execute_result"
    }
   ],
   "source": [
    "L.stem(\"Happiness\")"
   ]
  },
  {
   "cell_type": "code",
   "execution_count": 33,
   "id": "8e0990b0",
   "metadata": {},
   "outputs": [],
   "source": [
    "#Markov Chain"
   ]
  },
  {
   "cell_type": "code",
   "execution_count": 34,
   "id": "e41520f9",
   "metadata": {},
   "outputs": [],
   "source": [
    "from nltk.stem import RegexpStemmer"
   ]
  },
  {
   "cell_type": "code",
   "execution_count": 35,
   "id": "29b418b2",
   "metadata": {},
   "outputs": [],
   "source": [
    "rs = RegexpStemmer(\"ing\")"
   ]
  },
  {
   "cell_type": "code",
   "execution_count": 36,
   "id": "8adf8842",
   "metadata": {},
   "outputs": [
    {
     "data": {
      "text/plain": [
       "'work'"
      ]
     },
     "execution_count": 36,
     "metadata": {},
     "output_type": "execute_result"
    }
   ],
   "source": [
    "rs.stem(\"working\")"
   ]
  },
  {
   "cell_type": "raw",
   "id": "fae0c547",
   "metadata": {},
   "source": [
    "NLP Projesinde 7 Altın Kural\n",
    "1 - Noktalama işaretlerini kaldır.\n",
    "2 - Hepsini küçük harfe çevir\n",
    "3 - Enter veya \\n kaldır.\n",
    "4 - Rakamları kaldır\n",
    "5 - Tokenize et\n",
    "6 - Eklerini kaldır, köklerini bul\n",
    "7 - Stopwords kaldr (gereksiz kelimeler)"
   ]
  },
  {
   "cell_type": "code",
   "execution_count": 37,
   "id": "81d1a634",
   "metadata": {},
   "outputs": [],
   "source": [
    "from nltk.stem import SnowballStemmer"
   ]
  },
  {
   "cell_type": "code",
   "execution_count": 38,
   "id": "46a4a58c",
   "metadata": {
    "collapsed": true
   },
   "outputs": [
    {
     "data": {
      "text/plain": [
       "('arabic',\n",
       " 'danish',\n",
       " 'dutch',\n",
       " 'english',\n",
       " 'finnish',\n",
       " 'french',\n",
       " 'german',\n",
       " 'hungarian',\n",
       " 'italian',\n",
       " 'norwegian',\n",
       " 'porter',\n",
       " 'portuguese',\n",
       " 'romanian',\n",
       " 'russian',\n",
       " 'spanish',\n",
       " 'swedish')"
      ]
     },
     "execution_count": 38,
     "metadata": {},
     "output_type": "execute_result"
    }
   ],
   "source": [
    "SnowballStemmer.languages"
   ]
  },
  {
   "cell_type": "code",
   "execution_count": 39,
   "id": "25a4a7d8",
   "metadata": {},
   "outputs": [
    {
     "name": "stdout",
     "output_type": "stream",
     "text": [
      "Requirement already satisfied: TurkishStemmer in c:\\users\\seyma\\anaconda3\\lib\\site-packages (1.3)\n"
     ]
    }
   ],
   "source": [
    "!pip install TurkishStemmer"
   ]
  },
  {
   "cell_type": "code",
   "execution_count": 40,
   "id": "068536c2",
   "metadata": {},
   "outputs": [],
   "source": [
    "from TurkishStemmer import TurkishStemmer"
   ]
  },
  {
   "cell_type": "code",
   "execution_count": 41,
   "id": "fe7fff7e",
   "metadata": {},
   "outputs": [
    {
     "data": {
      "text/plain": [
       "'ayakkabı'"
      ]
     },
     "execution_count": 41,
     "metadata": {},
     "output_type": "execute_result"
    }
   ],
   "source": [
    "TurkishStemmer().stem(\"ayakkabılar\")"
   ]
  },
  {
   "cell_type": "code",
   "execution_count": 42,
   "id": "4b06d99c",
   "metadata": {},
   "outputs": [
    {
     "data": {
      "text/plain": [
       "'geliyor'"
      ]
     },
     "execution_count": 42,
     "metadata": {},
     "output_type": "execute_result"
    }
   ],
   "source": [
    "TurkishStemmer().stem(\"geliyorum\")"
   ]
  },
  {
   "cell_type": "code",
   "execution_count": 43,
   "id": "30c20b16",
   "metadata": {},
   "outputs": [],
   "source": [
    "#Part of Speeecg - POS\n",
    "#isim, fiil, özne, yüklem"
   ]
  },
  {
   "cell_type": "code",
   "execution_count": 44,
   "id": "ffe19d00",
   "metadata": {},
   "outputs": [],
   "source": [
    "from nltk.tokenize import word_tokenize"
   ]
  },
  {
   "cell_type": "code",
   "execution_count": 45,
   "id": "171fc9d9",
   "metadata": {},
   "outputs": [],
   "source": [
    "cumle = \"Zafer loves stuffed grape leaves. Artificial Intelligence is cool\""
   ]
  },
  {
   "cell_type": "code",
   "execution_count": 46,
   "id": "e373e8bc",
   "metadata": {},
   "outputs": [
    {
     "name": "stderr",
     "output_type": "stream",
     "text": [
      "[nltk_data] Downloading package averaged_perceptron_tagger to\n",
      "[nltk_data]     C:\\Users\\Seyma\\AppData\\Roaming\\nltk_data...\n",
      "[nltk_data]   Package averaged_perceptron_tagger is already up-to-\n",
      "[nltk_data]       date!\n"
     ]
    },
    {
     "data": {
      "text/plain": [
       "True"
      ]
     },
     "execution_count": 46,
     "metadata": {},
     "output_type": "execute_result"
    }
   ],
   "source": [
    "nltk.download(\"averaged_perceptron_tagger\")"
   ]
  },
  {
   "cell_type": "code",
   "execution_count": 47,
   "id": "17e95be7",
   "metadata": {},
   "outputs": [
    {
     "data": {
      "text/plain": [
       "[('Zafer', 'NNP'),\n",
       " ('loves', 'VBZ'),\n",
       " ('stuffed', 'JJ'),\n",
       " ('grape', 'NN'),\n",
       " ('leaves', 'VBZ'),\n",
       " ('.', '.'),\n",
       " ('Artificial', 'JJ'),\n",
       " ('Intelligence', 'NN'),\n",
       " ('is', 'VBZ'),\n",
       " ('cool', 'JJ')]"
      ]
     },
     "execution_count": 47,
     "metadata": {},
     "output_type": "execute_result"
    }
   ],
   "source": [
    "nltk.pos_tag(word_tokenize(cumle))"
   ]
  },
  {
   "cell_type": "code",
   "execution_count": 48,
   "id": "24a3b7f1",
   "metadata": {},
   "outputs": [],
   "source": [
    "from nltk.tag import DefaultTagger"
   ]
  },
  {
   "cell_type": "code",
   "execution_count": 49,
   "id": "8c6998e4",
   "metadata": {},
   "outputs": [],
   "source": [
    "tag = DefaultTagger(\"He is the man\")"
   ]
  },
  {
   "cell_type": "code",
   "execution_count": 50,
   "id": "08d40923",
   "metadata": {},
   "outputs": [
    {
     "data": {
      "text/plain": [
       "[('beautiful', 'He is the man'), ('morning', 'He is the man')]"
      ]
     },
     "execution_count": 50,
     "metadata": {},
     "output_type": "execute_result"
    }
   ],
   "source": [
    "tag.tag([\"beautiful\",\"morning\"])"
   ]
  },
  {
   "cell_type": "code",
   "execution_count": 51,
   "id": "18505ddb",
   "metadata": {},
   "outputs": [
    {
     "name": "stdout",
     "output_type": "stream",
     "text": [
      "Requirement already satisfied: autocorrect in c:\\users\\seyma\\anaconda3\\lib\\site-packages (2.6.1)\n"
     ]
    }
   ],
   "source": [
    "!pip install autocorrect"
   ]
  },
  {
   "cell_type": "code",
   "execution_count": 52,
   "id": "688a7c2f",
   "metadata": {},
   "outputs": [],
   "source": [
    "from autocorrect import spell"
   ]
  },
  {
   "cell_type": "code",
   "execution_count": 53,
   "id": "67329363",
   "metadata": {},
   "outputs": [
    {
     "name": "stdout",
     "output_type": "stream",
     "text": [
      "Requirement already satisfied: textblob in c:\\users\\seyma\\anaconda3\\lib\\site-packages (0.17.1)\n",
      "Requirement already satisfied: nltk>=3.1 in c:\\users\\seyma\\anaconda3\\lib\\site-packages (from textblob) (3.7)\n",
      "Requirement already satisfied: regex>=2021.8.3 in c:\\users\\seyma\\anaconda3\\lib\\site-packages (from nltk>=3.1->textblob) (2022.3.15)\n",
      "Requirement already satisfied: tqdm in c:\\users\\seyma\\anaconda3\\lib\\site-packages (from nltk>=3.1->textblob) (4.64.0)\n",
      "Requirement already satisfied: joblib in c:\\users\\seyma\\anaconda3\\lib\\site-packages (from nltk>=3.1->textblob) (1.1.0)\n",
      "Requirement already satisfied: click in c:\\users\\seyma\\anaconda3\\lib\\site-packages (from nltk>=3.1->textblob) (8.0.4)\n",
      "Requirement already satisfied: colorama in c:\\users\\seyma\\anaconda3\\lib\\site-packages (from click->nltk>=3.1->textblob) (0.4.4)\n"
     ]
    }
   ],
   "source": [
    "!pip install textblob"
   ]
  },
  {
   "cell_type": "code",
   "execution_count": 54,
   "id": "8de5b5e9",
   "metadata": {},
   "outputs": [],
   "source": [
    "from textblob import TextBlob"
   ]
  },
  {
   "cell_type": "code",
   "execution_count": 55,
   "id": "d64d18f8",
   "metadata": {},
   "outputs": [],
   "source": [
    "b = TextBlob(\"I havv good spelling\")"
   ]
  },
  {
   "cell_type": "code",
   "execution_count": 56,
   "id": "6d164c22",
   "metadata": {},
   "outputs": [],
   "source": [
    "#b.detect_language()"
   ]
  },
  {
   "cell_type": "code",
   "execution_count": 57,
   "id": "b3079933",
   "metadata": {},
   "outputs": [
    {
     "name": "stdout",
     "output_type": "stream",
     "text": [
      "Requirement already satisfied: langdetect in c:\\users\\seyma\\anaconda3\\lib\\site-packages (1.0.9)\n",
      "Requirement already satisfied: six in c:\\users\\seyma\\anaconda3\\lib\\site-packages (from langdetect) (1.16.0)\n"
     ]
    }
   ],
   "source": [
    "!pip install langdetect"
   ]
  },
  {
   "cell_type": "code",
   "execution_count": 58,
   "id": "8a1007d7",
   "metadata": {},
   "outputs": [],
   "source": [
    "from langdetect import detect"
   ]
  },
  {
   "cell_type": "code",
   "execution_count": 59,
   "id": "66805d4c",
   "metadata": {},
   "outputs": [
    {
     "data": {
      "text/plain": [
       "'de'"
      ]
     },
     "execution_count": 59,
     "metadata": {},
     "output_type": "execute_result"
    }
   ],
   "source": [
    "detect(\"Ein. zwei, vier\")"
   ]
  },
  {
   "cell_type": "code",
   "execution_count": 60,
   "id": "08e8b2a9",
   "metadata": {},
   "outputs": [
    {
     "data": {
      "text/plain": [
       "'tr'"
      ]
     },
     "execution_count": 60,
     "metadata": {},
     "output_type": "execute_result"
    }
   ],
   "source": [
    "detect(\"Döndü dönmedi\")"
   ]
  },
  {
   "cell_type": "code",
   "execution_count": 61,
   "id": "e9e1ddd9",
   "metadata": {},
   "outputs": [],
   "source": [
    "c = \"I am a free black man from Africa\""
   ]
  },
  {
   "cell_type": "code",
   "execution_count": 62,
   "id": "a3c5cd1a",
   "metadata": {},
   "outputs": [],
   "source": [
    "b = TextBlob(c)"
   ]
  },
  {
   "cell_type": "code",
   "execution_count": 63,
   "id": "d4c939c6",
   "metadata": {},
   "outputs": [
    {
     "data": {
      "text/plain": [
       "TextBlob(\"Afrika'dan özgür bir siyah adamım\")"
      ]
     },
     "execution_count": 63,
     "metadata": {},
     "output_type": "execute_result"
    }
   ],
   "source": [
    "b.translate(from_lang = \"en\",to = \"tr\")"
   ]
  },
  {
   "cell_type": "code",
   "execution_count": 64,
   "id": "70f7e67e",
   "metadata": {},
   "outputs": [],
   "source": [
    "k = \"hayat kısa, kuşlar uçuyor\""
   ]
  },
  {
   "cell_type": "code",
   "execution_count": 65,
   "id": "f6b28615",
   "metadata": {},
   "outputs": [],
   "source": [
    "b = TextBlob(k)"
   ]
  },
  {
   "cell_type": "code",
   "execution_count": 66,
   "id": "b242d2bd",
   "metadata": {},
   "outputs": [
    {
     "data": {
      "text/plain": [
       "TextBlob(\"जीवन छोटा है, पक्षी उड़ रहे हैं\")"
      ]
     },
     "execution_count": 66,
     "metadata": {},
     "output_type": "execute_result"
    }
   ],
   "source": [
    "b.translate(\"tr\",\"hi\")"
   ]
  },
  {
   "cell_type": "code",
   "execution_count": 67,
   "id": "77d6edf6",
   "metadata": {},
   "outputs": [],
   "source": [
    "#TF-IDF = term Frequency - Inverse Document Frequency"
   ]
  },
  {
   "cell_type": "code",
   "execution_count": 68,
   "id": "1ff1c9fc",
   "metadata": {},
   "outputs": [
    {
     "name": "stdout",
     "output_type": "stream",
     "text": [
      "Requirement already satisfied: google in c:\\users\\seyma\\anaconda3\\lib\\site-packages (3.0.0)\n",
      "Requirement already satisfied: beautifulsoup4 in c:\\users\\seyma\\anaconda3\\lib\\site-packages (from google) (4.11.1)\n",
      "Requirement already satisfied: soupsieve>1.2 in c:\\users\\seyma\\anaconda3\\lib\\site-packages (from beautifulsoup4->google) (2.3.1)\n"
     ]
    }
   ],
   "source": [
    "!pip install google"
   ]
  },
  {
   "cell_type": "code",
   "execution_count": 69,
   "id": "40f3116b",
   "metadata": {},
   "outputs": [],
   "source": [
    "from googlesearch import search"
   ]
  },
  {
   "cell_type": "code",
   "execution_count": 70,
   "id": "abaf8122",
   "metadata": {
    "scrolled": false
   },
   "outputs": [],
   "source": [
    "#for i in search(\"Zafer Acar Yapay Zeka\"):\n",
    " #   print (i)"
   ]
  },
  {
   "cell_type": "code",
   "execution_count": 71,
   "id": "1d3034a8",
   "metadata": {},
   "outputs": [],
   "source": [
    "#vectorizer"
   ]
  },
  {
   "cell_type": "code",
   "execution_count": 72,
   "id": "c1e568c2",
   "metadata": {},
   "outputs": [],
   "source": [
    "from sklearn.feature_extraction.text import CountVectorizer,TfidfVectorizer"
   ]
  },
  {
   "cell_type": "code",
   "execution_count": 73,
   "id": "2757abe3",
   "metadata": {},
   "outputs": [],
   "source": [
    "cumle = \"Call you tonight.\",\"Call me a cab\", \"Please, call me... PLEASE\""
   ]
  },
  {
   "cell_type": "code",
   "execution_count": 74,
   "id": "8783eb94",
   "metadata": {},
   "outputs": [],
   "source": [
    "vect = CountVectorizer()"
   ]
  },
  {
   "cell_type": "code",
   "execution_count": 75,
   "id": "3c4bd49b",
   "metadata": {},
   "outputs": [],
   "source": [
    "import pandas as pd"
   ]
  },
  {
   "cell_type": "code",
   "execution_count": 76,
   "id": "42ec8dbc",
   "metadata": {},
   "outputs": [
    {
     "name": "stderr",
     "output_type": "stream",
     "text": [
      "C:\\Users\\Seyma\\anaconda3\\lib\\site-packages\\sklearn\\utils\\deprecation.py:87: FutureWarning: Function get_feature_names is deprecated; get_feature_names is deprecated in 1.0 and will be removed in 1.2. Please use get_feature_names_out instead.\n",
      "  warnings.warn(msg, category=FutureWarning)\n"
     ]
    }
   ],
   "source": [
    "tf = pd.DataFrame(vect.fit_transform(cumle).toarray(),columns = vect.get_feature_names())\n",
    "#bir kelime bir cümlede kaç kere tekrar etti"
   ]
  },
  {
   "cell_type": "code",
   "execution_count": 77,
   "id": "d0f6d04d",
   "metadata": {},
   "outputs": [
    {
     "data": {
      "text/html": [
       "<div>\n",
       "<style scoped>\n",
       "    .dataframe tbody tr th:only-of-type {\n",
       "        vertical-align: middle;\n",
       "    }\n",
       "\n",
       "    .dataframe tbody tr th {\n",
       "        vertical-align: top;\n",
       "    }\n",
       "\n",
       "    .dataframe thead th {\n",
       "        text-align: right;\n",
       "    }\n",
       "</style>\n",
       "<table border=\"1\" class=\"dataframe\">\n",
       "  <thead>\n",
       "    <tr style=\"text-align: right;\">\n",
       "      <th></th>\n",
       "      <th>cab</th>\n",
       "      <th>call</th>\n",
       "      <th>me</th>\n",
       "      <th>please</th>\n",
       "      <th>tonight</th>\n",
       "      <th>you</th>\n",
       "    </tr>\n",
       "  </thead>\n",
       "  <tbody>\n",
       "    <tr>\n",
       "      <th>0</th>\n",
       "      <td>0</td>\n",
       "      <td>1</td>\n",
       "      <td>0</td>\n",
       "      <td>0</td>\n",
       "      <td>1</td>\n",
       "      <td>1</td>\n",
       "    </tr>\n",
       "    <tr>\n",
       "      <th>1</th>\n",
       "      <td>1</td>\n",
       "      <td>1</td>\n",
       "      <td>1</td>\n",
       "      <td>0</td>\n",
       "      <td>0</td>\n",
       "      <td>0</td>\n",
       "    </tr>\n",
       "    <tr>\n",
       "      <th>2</th>\n",
       "      <td>0</td>\n",
       "      <td>1</td>\n",
       "      <td>1</td>\n",
       "      <td>2</td>\n",
       "      <td>0</td>\n",
       "      <td>0</td>\n",
       "    </tr>\n",
       "  </tbody>\n",
       "</table>\n",
       "</div>"
      ],
      "text/plain": [
       "   cab  call  me  please  tonight  you\n",
       "0    0     1   0       0        1    1\n",
       "1    1     1   1       0        0    0\n",
       "2    0     1   1       2        0    0"
      ]
     },
     "execution_count": 77,
     "metadata": {},
     "output_type": "execute_result"
    }
   ],
   "source": [
    "tf"
   ]
  },
  {
   "cell_type": "code",
   "execution_count": 78,
   "id": "2c2ddc26",
   "metadata": {},
   "outputs": [],
   "source": [
    "vect = CountVectorizer()\n",
    "df = vect.fit_transform(cumle).toarray().sum(axis=0)\n",
    "#bir eklime bütün dokümanda kaç kere tekrar etti"
   ]
  },
  {
   "cell_type": "code",
   "execution_count": 79,
   "id": "6ce7fa2b",
   "metadata": {},
   "outputs": [
    {
     "data": {
      "text/plain": [
       "array([1, 3, 2, 2, 1, 1], dtype=int64)"
      ]
     },
     "execution_count": 79,
     "metadata": {},
     "output_type": "execute_result"
    }
   ],
   "source": [
    "df"
   ]
  },
  {
   "cell_type": "code",
   "execution_count": 80,
   "id": "141a97e5",
   "metadata": {},
   "outputs": [
    {
     "name": "stderr",
     "output_type": "stream",
     "text": [
      "C:\\Users\\Seyma\\anaconda3\\lib\\site-packages\\sklearn\\utils\\deprecation.py:87: FutureWarning: Function get_feature_names is deprecated; get_feature_names is deprecated in 1.0 and will be removed in 1.2. Please use get_feature_names_out instead.\n",
      "  warnings.warn(msg, category=FutureWarning)\n"
     ]
    },
    {
     "data": {
      "text/html": [
       "<div>\n",
       "<style scoped>\n",
       "    .dataframe tbody tr th:only-of-type {\n",
       "        vertical-align: middle;\n",
       "    }\n",
       "\n",
       "    .dataframe tbody tr th {\n",
       "        vertical-align: top;\n",
       "    }\n",
       "\n",
       "    .dataframe thead th {\n",
       "        text-align: right;\n",
       "    }\n",
       "</style>\n",
       "<table border=\"1\" class=\"dataframe\">\n",
       "  <thead>\n",
       "    <tr style=\"text-align: right;\">\n",
       "      <th></th>\n",
       "      <th>cab</th>\n",
       "      <th>call</th>\n",
       "      <th>me</th>\n",
       "      <th>please</th>\n",
       "      <th>tonight</th>\n",
       "      <th>you</th>\n",
       "    </tr>\n",
       "  </thead>\n",
       "  <tbody>\n",
       "    <tr>\n",
       "      <th>0</th>\n",
       "      <td>1</td>\n",
       "      <td>3</td>\n",
       "      <td>2</td>\n",
       "      <td>2</td>\n",
       "      <td>1</td>\n",
       "      <td>1</td>\n",
       "    </tr>\n",
       "  </tbody>\n",
       "</table>\n",
       "</div>"
      ],
      "text/plain": [
       "   cab  call  me  please  tonight  you\n",
       "0    1     3   2       2        1    1"
      ]
     },
     "execution_count": 80,
     "metadata": {},
     "output_type": "execute_result"
    }
   ],
   "source": [
    "pd.DataFrame(df.reshape(1,6),columns=vect.get_feature_names())"
   ]
  },
  {
   "cell_type": "code",
   "execution_count": 81,
   "id": "012e5db1",
   "metadata": {},
   "outputs": [
    {
     "data": {
      "text/html": [
       "<div>\n",
       "<style scoped>\n",
       "    .dataframe tbody tr th:only-of-type {\n",
       "        vertical-align: middle;\n",
       "    }\n",
       "\n",
       "    .dataframe tbody tr th {\n",
       "        vertical-align: top;\n",
       "    }\n",
       "\n",
       "    .dataframe thead th {\n",
       "        text-align: right;\n",
       "    }\n",
       "</style>\n",
       "<table border=\"1\" class=\"dataframe\">\n",
       "  <thead>\n",
       "    <tr style=\"text-align: right;\">\n",
       "      <th></th>\n",
       "      <th>cab</th>\n",
       "      <th>call</th>\n",
       "      <th>me</th>\n",
       "      <th>please</th>\n",
       "      <th>tonight</th>\n",
       "      <th>you</th>\n",
       "    </tr>\n",
       "  </thead>\n",
       "  <tbody>\n",
       "    <tr>\n",
       "      <th>0</th>\n",
       "      <td>0.0</td>\n",
       "      <td>0.333333</td>\n",
       "      <td>0.0</td>\n",
       "      <td>0.0</td>\n",
       "      <td>1.0</td>\n",
       "      <td>1.0</td>\n",
       "    </tr>\n",
       "    <tr>\n",
       "      <th>1</th>\n",
       "      <td>1.0</td>\n",
       "      <td>0.333333</td>\n",
       "      <td>0.5</td>\n",
       "      <td>0.0</td>\n",
       "      <td>0.0</td>\n",
       "      <td>0.0</td>\n",
       "    </tr>\n",
       "    <tr>\n",
       "      <th>2</th>\n",
       "      <td>0.0</td>\n",
       "      <td>0.333333</td>\n",
       "      <td>0.5</td>\n",
       "      <td>1.0</td>\n",
       "      <td>0.0</td>\n",
       "      <td>0.0</td>\n",
       "    </tr>\n",
       "  </tbody>\n",
       "</table>\n",
       "</div>"
      ],
      "text/plain": [
       "   cab      call   me  please  tonight  you\n",
       "0  0.0  0.333333  0.0     0.0      1.0  1.0\n",
       "1  1.0  0.333333  0.5     0.0      0.0  0.0\n",
       "2  0.0  0.333333  0.5     1.0      0.0  0.0"
      ]
     },
     "execution_count": 81,
     "metadata": {},
     "output_type": "execute_result"
    }
   ],
   "source": [
    "tf/df\n",
    "#kelimenin yüzde kaçı hangi cümlede geçmiş"
   ]
  },
  {
   "cell_type": "code",
   "execution_count": 82,
   "id": "2c2436fb",
   "metadata": {},
   "outputs": [],
   "source": [
    "vect = TfidfVectorizer()"
   ]
  },
  {
   "cell_type": "code",
   "execution_count": 83,
   "id": "9703f4d0",
   "metadata": {},
   "outputs": [
    {
     "name": "stderr",
     "output_type": "stream",
     "text": [
      "C:\\Users\\Seyma\\anaconda3\\lib\\site-packages\\sklearn\\utils\\deprecation.py:87: FutureWarning: Function get_feature_names is deprecated; get_feature_names is deprecated in 1.0 and will be removed in 1.2. Please use get_feature_names_out instead.\n",
      "  warnings.warn(msg, category=FutureWarning)\n"
     ]
    },
    {
     "data": {
      "text/html": [
       "<div>\n",
       "<style scoped>\n",
       "    .dataframe tbody tr th:only-of-type {\n",
       "        vertical-align: middle;\n",
       "    }\n",
       "\n",
       "    .dataframe tbody tr th {\n",
       "        vertical-align: top;\n",
       "    }\n",
       "\n",
       "    .dataframe thead th {\n",
       "        text-align: right;\n",
       "    }\n",
       "</style>\n",
       "<table border=\"1\" class=\"dataframe\">\n",
       "  <thead>\n",
       "    <tr style=\"text-align: right;\">\n",
       "      <th></th>\n",
       "      <th>cab</th>\n",
       "      <th>call</th>\n",
       "      <th>me</th>\n",
       "      <th>please</th>\n",
       "      <th>tonight</th>\n",
       "      <th>you</th>\n",
       "    </tr>\n",
       "  </thead>\n",
       "  <tbody>\n",
       "    <tr>\n",
       "      <th>0</th>\n",
       "      <td>0.000000</td>\n",
       "      <td>0.385372</td>\n",
       "      <td>0.000000</td>\n",
       "      <td>0.000000</td>\n",
       "      <td>0.652491</td>\n",
       "      <td>0.652491</td>\n",
       "    </tr>\n",
       "    <tr>\n",
       "      <th>1</th>\n",
       "      <td>0.720333</td>\n",
       "      <td>0.425441</td>\n",
       "      <td>0.547832</td>\n",
       "      <td>0.000000</td>\n",
       "      <td>0.000000</td>\n",
       "      <td>0.000000</td>\n",
       "    </tr>\n",
       "    <tr>\n",
       "      <th>2</th>\n",
       "      <td>0.000000</td>\n",
       "      <td>0.266075</td>\n",
       "      <td>0.342620</td>\n",
       "      <td>0.901008</td>\n",
       "      <td>0.000000</td>\n",
       "      <td>0.000000</td>\n",
       "    </tr>\n",
       "  </tbody>\n",
       "</table>\n",
       "</div>"
      ],
      "text/plain": [
       "        cab      call        me    please   tonight       you\n",
       "0  0.000000  0.385372  0.000000  0.000000  0.652491  0.652491\n",
       "1  0.720333  0.425441  0.547832  0.000000  0.000000  0.000000\n",
       "2  0.000000  0.266075  0.342620  0.901008  0.000000  0.000000"
      ]
     },
     "execution_count": 83,
     "metadata": {},
     "output_type": "execute_result"
    }
   ],
   "source": [
    "pd.DataFrame(vect.fit_transform(cumle).toarray(),columns=vect.get_feature_names())\n",
    "#vektörün uzunluğunu hesap ediyor."
   ]
  },
  {
   "cell_type": "code",
   "execution_count": 84,
   "id": "cea191e2",
   "metadata": {},
   "outputs": [],
   "source": [
    "import pandas as pd"
   ]
  },
  {
   "cell_type": "code",
   "execution_count": 85,
   "id": "efbf137e",
   "metadata": {},
   "outputs": [],
   "source": [
    "yelp = pd.read_csv(\"yelp.csv\")"
   ]
  },
  {
   "cell_type": "code",
   "execution_count": 86,
   "id": "69ff7447",
   "metadata": {},
   "outputs": [
    {
     "data": {
      "text/html": [
       "<div>\n",
       "<style scoped>\n",
       "    .dataframe tbody tr th:only-of-type {\n",
       "        vertical-align: middle;\n",
       "    }\n",
       "\n",
       "    .dataframe tbody tr th {\n",
       "        vertical-align: top;\n",
       "    }\n",
       "\n",
       "    .dataframe thead th {\n",
       "        text-align: right;\n",
       "    }\n",
       "</style>\n",
       "<table border=\"1\" class=\"dataframe\">\n",
       "  <thead>\n",
       "    <tr style=\"text-align: right;\">\n",
       "      <th></th>\n",
       "      <th>business_id</th>\n",
       "      <th>date</th>\n",
       "      <th>review_id</th>\n",
       "      <th>stars</th>\n",
       "      <th>text</th>\n",
       "      <th>type</th>\n",
       "      <th>user_id</th>\n",
       "      <th>cool</th>\n",
       "      <th>useful</th>\n",
       "      <th>funny</th>\n",
       "    </tr>\n",
       "  </thead>\n",
       "  <tbody>\n",
       "    <tr>\n",
       "      <th>0</th>\n",
       "      <td>9yKzy9PApeiPPOUJEtnvkg</td>\n",
       "      <td>2011-01-26</td>\n",
       "      <td>fWKvX83p0-ka4JS3dc6E5A</td>\n",
       "      <td>5</td>\n",
       "      <td>My wife took me here on my birthday for breakf...</td>\n",
       "      <td>review</td>\n",
       "      <td>rLtl8ZkDX5vH5nAx9C3q5Q</td>\n",
       "      <td>2</td>\n",
       "      <td>5</td>\n",
       "      <td>0</td>\n",
       "    </tr>\n",
       "    <tr>\n",
       "      <th>1</th>\n",
       "      <td>ZRJwVLyzEJq1VAihDhYiow</td>\n",
       "      <td>2011-07-27</td>\n",
       "      <td>IjZ33sJrzXqU-0X6U8NwyA</td>\n",
       "      <td>5</td>\n",
       "      <td>I have no idea why some people give bad review...</td>\n",
       "      <td>review</td>\n",
       "      <td>0a2KyEL0d3Yb1V6aivbIuQ</td>\n",
       "      <td>0</td>\n",
       "      <td>0</td>\n",
       "      <td>0</td>\n",
       "    </tr>\n",
       "    <tr>\n",
       "      <th>2</th>\n",
       "      <td>6oRAC4uyJCsJl1X0WZpVSA</td>\n",
       "      <td>2012-06-14</td>\n",
       "      <td>IESLBzqUCLdSzSqm0eCSxQ</td>\n",
       "      <td>4</td>\n",
       "      <td>love the gyro plate. Rice is so good and I als...</td>\n",
       "      <td>review</td>\n",
       "      <td>0hT2KtfLiobPvh6cDC8JQg</td>\n",
       "      <td>0</td>\n",
       "      <td>1</td>\n",
       "      <td>0</td>\n",
       "    </tr>\n",
       "    <tr>\n",
       "      <th>3</th>\n",
       "      <td>_1QQZuf4zZOyFCvXc0o6Vg</td>\n",
       "      <td>2010-05-27</td>\n",
       "      <td>G-WvGaISbqqaMHlNnByodA</td>\n",
       "      <td>5</td>\n",
       "      <td>Rosie, Dakota, and I LOVE Chaparral Dog Park!!...</td>\n",
       "      <td>review</td>\n",
       "      <td>uZetl9T0NcROGOyFfughhg</td>\n",
       "      <td>1</td>\n",
       "      <td>2</td>\n",
       "      <td>0</td>\n",
       "    </tr>\n",
       "    <tr>\n",
       "      <th>4</th>\n",
       "      <td>6ozycU1RpktNG2-1BroVtw</td>\n",
       "      <td>2012-01-05</td>\n",
       "      <td>1uJFq2r5QfJG_6ExMRCaGw</td>\n",
       "      <td>5</td>\n",
       "      <td>General Manager Scott Petello is a good egg!!!...</td>\n",
       "      <td>review</td>\n",
       "      <td>vYmM4KTsC8ZfQBg-j5MWkw</td>\n",
       "      <td>0</td>\n",
       "      <td>0</td>\n",
       "      <td>0</td>\n",
       "    </tr>\n",
       "  </tbody>\n",
       "</table>\n",
       "</div>"
      ],
      "text/plain": [
       "              business_id        date               review_id  stars  \\\n",
       "0  9yKzy9PApeiPPOUJEtnvkg  2011-01-26  fWKvX83p0-ka4JS3dc6E5A      5   \n",
       "1  ZRJwVLyzEJq1VAihDhYiow  2011-07-27  IjZ33sJrzXqU-0X6U8NwyA      5   \n",
       "2  6oRAC4uyJCsJl1X0WZpVSA  2012-06-14  IESLBzqUCLdSzSqm0eCSxQ      4   \n",
       "3  _1QQZuf4zZOyFCvXc0o6Vg  2010-05-27  G-WvGaISbqqaMHlNnByodA      5   \n",
       "4  6ozycU1RpktNG2-1BroVtw  2012-01-05  1uJFq2r5QfJG_6ExMRCaGw      5   \n",
       "\n",
       "                                                text    type  \\\n",
       "0  My wife took me here on my birthday for breakf...  review   \n",
       "1  I have no idea why some people give bad review...  review   \n",
       "2  love the gyro plate. Rice is so good and I als...  review   \n",
       "3  Rosie, Dakota, and I LOVE Chaparral Dog Park!!...  review   \n",
       "4  General Manager Scott Petello is a good egg!!!...  review   \n",
       "\n",
       "                  user_id  cool  useful  funny  \n",
       "0  rLtl8ZkDX5vH5nAx9C3q5Q     2       5      0  \n",
       "1  0a2KyEL0d3Yb1V6aivbIuQ     0       0      0  \n",
       "2  0hT2KtfLiobPvh6cDC8JQg     0       1      0  \n",
       "3  uZetl9T0NcROGOyFfughhg     1       2      0  \n",
       "4  vYmM4KTsC8ZfQBg-j5MWkw     0       0      0  "
      ]
     },
     "execution_count": 86,
     "metadata": {},
     "output_type": "execute_result"
    }
   ],
   "source": [
    "yelp.head()"
   ]
  },
  {
   "cell_type": "code",
   "execution_count": 87,
   "id": "b89016a7",
   "metadata": {},
   "outputs": [
    {
     "data": {
      "text/plain": [
       "business_id    0\n",
       "date           0\n",
       "review_id      0\n",
       "stars          0\n",
       "text           0\n",
       "type           0\n",
       "user_id        0\n",
       "cool           0\n",
       "useful         0\n",
       "funny          0\n",
       "dtype: int64"
      ]
     },
     "execution_count": 87,
     "metadata": {},
     "output_type": "execute_result"
    }
   ],
   "source": [
    "yelp.isnull().sum()"
   ]
  },
  {
   "cell_type": "code",
   "execution_count": 88,
   "id": "018d2108",
   "metadata": {
    "collapsed": true
   },
   "outputs": [
    {
     "name": "stdout",
     "output_type": "stream",
     "text": [
      "<class 'pandas.core.frame.DataFrame'>\n",
      "RangeIndex: 10000 entries, 0 to 9999\n",
      "Data columns (total 10 columns):\n",
      " #   Column       Non-Null Count  Dtype \n",
      "---  ------       --------------  ----- \n",
      " 0   business_id  10000 non-null  object\n",
      " 1   date         10000 non-null  object\n",
      " 2   review_id    10000 non-null  object\n",
      " 3   stars        10000 non-null  int64 \n",
      " 4   text         10000 non-null  object\n",
      " 5   type         10000 non-null  object\n",
      " 6   user_id      10000 non-null  object\n",
      " 7   cool         10000 non-null  int64 \n",
      " 8   useful       10000 non-null  int64 \n",
      " 9   funny        10000 non-null  int64 \n",
      "dtypes: int64(4), object(6)\n",
      "memory usage: 781.4+ KB\n"
     ]
    }
   ],
   "source": [
    "yelp.info()"
   ]
  },
  {
   "cell_type": "code",
   "execution_count": 89,
   "id": "c3358640",
   "metadata": {},
   "outputs": [],
   "source": [
    "yelp[\"text\"] = yelp[\"text\"].str.lower()\n",
    "#küçük harfe çevrildi"
   ]
  },
  {
   "cell_type": "code",
   "execution_count": 90,
   "id": "180c140e",
   "metadata": {},
   "outputs": [
    {
     "name": "stderr",
     "output_type": "stream",
     "text": [
      "C:\\Users\\Seyma\\AppData\\Local\\Temp\\ipykernel_10076\\711001776.py:1: FutureWarning: The default value of regex will change from True to False in a future version.\n",
      "  yelp[\"text\"] = yelp[\"text\"].str.replace('[^\\w\\s]','')\n"
     ]
    }
   ],
   "source": [
    "yelp[\"text\"] = yelp[\"text\"].str.replace('[^\\w\\s]','')\n",
    "#noktalama işaetleri kaldırıldı"
   ]
  },
  {
   "cell_type": "code",
   "execution_count": 91,
   "id": "043da723",
   "metadata": {},
   "outputs": [
    {
     "name": "stderr",
     "output_type": "stream",
     "text": [
      "C:\\Users\\Seyma\\AppData\\Local\\Temp\\ipykernel_10076\\1076447211.py:1: FutureWarning: The default value of regex will change from True to False in a future version.\n",
      "  yelp[\"text\"] = yelp[\"text\"].str.replace('\\d+','')\n"
     ]
    }
   ],
   "source": [
    "yelp[\"text\"] = yelp[\"text\"].str.replace('\\d+','')\n",
    "#rakamlar kaldırıldı"
   ]
  },
  {
   "cell_type": "code",
   "execution_count": 92,
   "id": "32818156",
   "metadata": {},
   "outputs": [],
   "source": [
    "yelp[\"text\"] = yelp[\"text\"].str.replace('\\n',' ').replace('\\r',' ')\n",
    "#enter ve new line kaldırıldı"
   ]
  },
  {
   "cell_type": "code",
   "execution_count": 93,
   "id": "13ea0a07",
   "metadata": {},
   "outputs": [],
   "source": [
    "yelp_ei_ek=yelp[(yelp.stars==5) | (yelp.stars==1)]\n",
    "#en iyi en kötü "
   ]
  },
  {
   "cell_type": "code",
   "execution_count": 161,
   "id": "458e2418",
   "metadata": {},
   "outputs": [],
   "source": [
    "yelp_ei_ek.reset_index(drop=True, inplace=True)\n",
    "#indexler düzenlendi"
   ]
  },
  {
   "cell_type": "code",
   "execution_count": 95,
   "id": "ef301408",
   "metadata": {
    "collapsed": true
   },
   "outputs": [
    {
     "data": {
      "text/html": [
       "<div>\n",
       "<style scoped>\n",
       "    .dataframe tbody tr th:only-of-type {\n",
       "        vertical-align: middle;\n",
       "    }\n",
       "\n",
       "    .dataframe tbody tr th {\n",
       "        vertical-align: top;\n",
       "    }\n",
       "\n",
       "    .dataframe thead th {\n",
       "        text-align: right;\n",
       "    }\n",
       "</style>\n",
       "<table border=\"1\" class=\"dataframe\">\n",
       "  <thead>\n",
       "    <tr style=\"text-align: right;\">\n",
       "      <th></th>\n",
       "      <th>business_id</th>\n",
       "      <th>date</th>\n",
       "      <th>review_id</th>\n",
       "      <th>stars</th>\n",
       "      <th>text</th>\n",
       "      <th>type</th>\n",
       "      <th>user_id</th>\n",
       "      <th>cool</th>\n",
       "      <th>useful</th>\n",
       "      <th>funny</th>\n",
       "    </tr>\n",
       "  </thead>\n",
       "  <tbody>\n",
       "    <tr>\n",
       "      <th>0</th>\n",
       "      <td>9yKzy9PApeiPPOUJEtnvkg</td>\n",
       "      <td>2011-01-26</td>\n",
       "      <td>fWKvX83p0-ka4JS3dc6E5A</td>\n",
       "      <td>5</td>\n",
       "      <td>my wife took me here on my birthday for breakf...</td>\n",
       "      <td>review</td>\n",
       "      <td>rLtl8ZkDX5vH5nAx9C3q5Q</td>\n",
       "      <td>2</td>\n",
       "      <td>5</td>\n",
       "      <td>0</td>\n",
       "    </tr>\n",
       "    <tr>\n",
       "      <th>1</th>\n",
       "      <td>ZRJwVLyzEJq1VAihDhYiow</td>\n",
       "      <td>2011-07-27</td>\n",
       "      <td>IjZ33sJrzXqU-0X6U8NwyA</td>\n",
       "      <td>5</td>\n",
       "      <td>i have no idea why some people give bad review...</td>\n",
       "      <td>review</td>\n",
       "      <td>0a2KyEL0d3Yb1V6aivbIuQ</td>\n",
       "      <td>0</td>\n",
       "      <td>0</td>\n",
       "      <td>0</td>\n",
       "    </tr>\n",
       "    <tr>\n",
       "      <th>2</th>\n",
       "      <td>_1QQZuf4zZOyFCvXc0o6Vg</td>\n",
       "      <td>2010-05-27</td>\n",
       "      <td>G-WvGaISbqqaMHlNnByodA</td>\n",
       "      <td>5</td>\n",
       "      <td>rosie dakota and i love chaparral dog park its...</td>\n",
       "      <td>review</td>\n",
       "      <td>uZetl9T0NcROGOyFfughhg</td>\n",
       "      <td>1</td>\n",
       "      <td>2</td>\n",
       "      <td>0</td>\n",
       "    </tr>\n",
       "    <tr>\n",
       "      <th>3</th>\n",
       "      <td>6ozycU1RpktNG2-1BroVtw</td>\n",
       "      <td>2012-01-05</td>\n",
       "      <td>1uJFq2r5QfJG_6ExMRCaGw</td>\n",
       "      <td>5</td>\n",
       "      <td>general manager scott petello is a good egg no...</td>\n",
       "      <td>review</td>\n",
       "      <td>vYmM4KTsC8ZfQBg-j5MWkw</td>\n",
       "      <td>0</td>\n",
       "      <td>0</td>\n",
       "      <td>0</td>\n",
       "    </tr>\n",
       "    <tr>\n",
       "      <th>4</th>\n",
       "      <td>zp713qNhx8d9KCJJnrw1xA</td>\n",
       "      <td>2010-02-12</td>\n",
       "      <td>riFQ3vxNpP4rWLk_CSri2A</td>\n",
       "      <td>5</td>\n",
       "      <td>drop what youre doing and drive here after i a...</td>\n",
       "      <td>review</td>\n",
       "      <td>wFweIWhv2fREZV_dYkz_1g</td>\n",
       "      <td>7</td>\n",
       "      <td>7</td>\n",
       "      <td>4</td>\n",
       "    </tr>\n",
       "    <tr>\n",
       "      <th>...</th>\n",
       "      <td>...</td>\n",
       "      <td>...</td>\n",
       "      <td>...</td>\n",
       "      <td>...</td>\n",
       "      <td>...</td>\n",
       "      <td>...</td>\n",
       "      <td>...</td>\n",
       "      <td>...</td>\n",
       "      <td>...</td>\n",
       "      <td>...</td>\n",
       "    </tr>\n",
       "    <tr>\n",
       "      <th>4081</th>\n",
       "      <td>R8VwdLyvsp9iybNqRvm94g</td>\n",
       "      <td>2011-10-03</td>\n",
       "      <td>pcEeHdAJPoFNF23es0kKWg</td>\n",
       "      <td>5</td>\n",
       "      <td>yes i do rock the hipster joints  i dig this p...</td>\n",
       "      <td>review</td>\n",
       "      <td>b92Y3tyWTQQZ5FLifex62Q</td>\n",
       "      <td>1</td>\n",
       "      <td>1</td>\n",
       "      <td>1</td>\n",
       "    </tr>\n",
       "    <tr>\n",
       "      <th>4082</th>\n",
       "      <td>WJ5mq4EiWYAA4Vif0xDfdg</td>\n",
       "      <td>2011-12-05</td>\n",
       "      <td>EuHX-39FR7tyyG1ElvN1Jw</td>\n",
       "      <td>5</td>\n",
       "      <td>only  stars   a few notes the folks that rated...</td>\n",
       "      <td>review</td>\n",
       "      <td>hTau-iNZFwoNsPCaiIUTEA</td>\n",
       "      <td>1</td>\n",
       "      <td>1</td>\n",
       "      <td>0</td>\n",
       "    </tr>\n",
       "    <tr>\n",
       "      <th>4083</th>\n",
       "      <td>f96lWMIAUhYIYy9gOktivQ</td>\n",
       "      <td>2009-03-10</td>\n",
       "      <td>YF17z7HWlMj6aezZc-pVEw</td>\n",
       "      <td>5</td>\n",
       "      <td>im not normally one to jump at reviewing a cha...</td>\n",
       "      <td>review</td>\n",
       "      <td>W_QXYA7A0IhMrvbckz7eVg</td>\n",
       "      <td>2</td>\n",
       "      <td>3</td>\n",
       "      <td>2</td>\n",
       "    </tr>\n",
       "    <tr>\n",
       "      <th>4084</th>\n",
       "      <td>L3BSpFvxcNf3T_teitgt6A</td>\n",
       "      <td>2012-03-19</td>\n",
       "      <td>0nxb1gIGFgk3WbC5zwhKZg</td>\n",
       "      <td>5</td>\n",
       "      <td>lets seewhat is there not to like about surpri...</td>\n",
       "      <td>review</td>\n",
       "      <td>OzOZv-Knlw3oz9K5Kh5S6A</td>\n",
       "      <td>1</td>\n",
       "      <td>2</td>\n",
       "      <td>1</td>\n",
       "    </tr>\n",
       "    <tr>\n",
       "      <th>4085</th>\n",
       "      <td>pF7uRzygyZsltbmVpjIyvw</td>\n",
       "      <td>2010-10-16</td>\n",
       "      <td>vWSmOhg2ID1MNZHaWapGbA</td>\n",
       "      <td>5</td>\n",
       "      <td>locations all  star average i think arizona r...</td>\n",
       "      <td>review</td>\n",
       "      <td>KSBFytcdjPKZgXKQnYQdkA</td>\n",
       "      <td>0</td>\n",
       "      <td>0</td>\n",
       "      <td>0</td>\n",
       "    </tr>\n",
       "  </tbody>\n",
       "</table>\n",
       "<p>4086 rows × 10 columns</p>\n",
       "</div>"
      ],
      "text/plain": [
       "                 business_id        date               review_id  stars  \\\n",
       "0     9yKzy9PApeiPPOUJEtnvkg  2011-01-26  fWKvX83p0-ka4JS3dc6E5A      5   \n",
       "1     ZRJwVLyzEJq1VAihDhYiow  2011-07-27  IjZ33sJrzXqU-0X6U8NwyA      5   \n",
       "2     _1QQZuf4zZOyFCvXc0o6Vg  2010-05-27  G-WvGaISbqqaMHlNnByodA      5   \n",
       "3     6ozycU1RpktNG2-1BroVtw  2012-01-05  1uJFq2r5QfJG_6ExMRCaGw      5   \n",
       "4     zp713qNhx8d9KCJJnrw1xA  2010-02-12  riFQ3vxNpP4rWLk_CSri2A      5   \n",
       "...                      ...         ...                     ...    ...   \n",
       "4081  R8VwdLyvsp9iybNqRvm94g  2011-10-03  pcEeHdAJPoFNF23es0kKWg      5   \n",
       "4082  WJ5mq4EiWYAA4Vif0xDfdg  2011-12-05  EuHX-39FR7tyyG1ElvN1Jw      5   \n",
       "4083  f96lWMIAUhYIYy9gOktivQ  2009-03-10  YF17z7HWlMj6aezZc-pVEw      5   \n",
       "4084  L3BSpFvxcNf3T_teitgt6A  2012-03-19  0nxb1gIGFgk3WbC5zwhKZg      5   \n",
       "4085  pF7uRzygyZsltbmVpjIyvw  2010-10-16  vWSmOhg2ID1MNZHaWapGbA      5   \n",
       "\n",
       "                                                   text    type  \\\n",
       "0     my wife took me here on my birthday for breakf...  review   \n",
       "1     i have no idea why some people give bad review...  review   \n",
       "2     rosie dakota and i love chaparral dog park its...  review   \n",
       "3     general manager scott petello is a good egg no...  review   \n",
       "4     drop what youre doing and drive here after i a...  review   \n",
       "...                                                 ...     ...   \n",
       "4081  yes i do rock the hipster joints  i dig this p...  review   \n",
       "4082  only  stars   a few notes the folks that rated...  review   \n",
       "4083  im not normally one to jump at reviewing a cha...  review   \n",
       "4084  lets seewhat is there not to like about surpri...  review   \n",
       "4085   locations all  star average i think arizona r...  review   \n",
       "\n",
       "                     user_id  cool  useful  funny  \n",
       "0     rLtl8ZkDX5vH5nAx9C3q5Q     2       5      0  \n",
       "1     0a2KyEL0d3Yb1V6aivbIuQ     0       0      0  \n",
       "2     uZetl9T0NcROGOyFfughhg     1       2      0  \n",
       "3     vYmM4KTsC8ZfQBg-j5MWkw     0       0      0  \n",
       "4     wFweIWhv2fREZV_dYkz_1g     7       7      4  \n",
       "...                      ...   ...     ...    ...  \n",
       "4081  b92Y3tyWTQQZ5FLifex62Q     1       1      1  \n",
       "4082  hTau-iNZFwoNsPCaiIUTEA     1       1      0  \n",
       "4083  W_QXYA7A0IhMrvbckz7eVg     2       3      2  \n",
       "4084  OzOZv-Knlw3oz9K5Kh5S6A     1       2      1  \n",
       "4085  KSBFytcdjPKZgXKQnYQdkA     0       0      0  \n",
       "\n",
       "[4086 rows x 10 columns]"
      ]
     },
     "execution_count": 95,
     "metadata": {},
     "output_type": "execute_result"
    }
   ],
   "source": [
    "yelp_ei_ek"
   ]
  },
  {
   "cell_type": "code",
   "execution_count": 96,
   "id": "cbef0c21",
   "metadata": {},
   "outputs": [],
   "source": [
    "x = yelp_ei_ek.text\n",
    "y = yelp_ei_ek.stars"
   ]
  },
  {
   "cell_type": "code",
   "execution_count": 97,
   "id": "3a095e98",
   "metadata": {},
   "outputs": [],
   "source": [
    "from sklearn.model_selection import train_test_split"
   ]
  },
  {
   "cell_type": "code",
   "execution_count": 145,
   "id": "00261038",
   "metadata": {},
   "outputs": [
    {
     "name": "stdout",
     "output_type": "stream",
     "text": [
      "0       my wife took me here on my birthday for breakf...\n",
      "1       i have no idea why some people give bad review...\n",
      "2       rosie dakota and i love chaparral dog park its...\n",
      "3       general manager scott petello is a good egg no...\n",
      "4       drop what youre doing and drive here after i a...\n",
      "                              ...                        \n",
      "4081    yes i do rock the hipster joints  i dig this p...\n",
      "4082    only  stars   a few notes the folks that rated...\n",
      "4083    im not normally one to jump at reviewing a cha...\n",
      "4084    lets seewhat is there not to like about surpri...\n",
      "4085     locations all  star average i think arizona r...\n",
      "Name: text, Length: 4086, dtype: object\n"
     ]
    }
   ],
   "source": [
    "print(x)"
   ]
  },
  {
   "cell_type": "code",
   "execution_count": 146,
   "id": "a73afc4d",
   "metadata": {},
   "outputs": [],
   "source": [
    "vect = CountVectorizer(lowercase=True, stop_words=\"english\")\n",
    "x_yeni = vect.fit_transform(x)"
   ]
  },
  {
   "cell_type": "code",
   "execution_count": 147,
   "id": "abf9ddd6",
   "metadata": {},
   "outputs": [],
   "source": [
    "x_train,x_test,y_train,y_test = train_test_split(x_yeni,y,random_state=42)"
   ]
  },
  {
   "cell_type": "code",
   "execution_count": 148,
   "id": "9da38c6f",
   "metadata": {
    "scrolled": true
   },
   "outputs": [
    {
     "name": "stdout",
     "output_type": "stream",
     "text": [
      "  (0, 6315)\t1\n",
      "  (0, 518)\t1\n",
      "  (0, 16366)\t1\n",
      "  (0, 13858)\t1\n",
      "  (0, 20652)\t1\n",
      "  (0, 10923)\t1\n",
      "  (0, 19871)\t1\n",
      "  (0, 14941)\t1\n",
      "  (0, 10844)\t1\n",
      "  (0, 16376)\t1\n",
      "  (0, 11444)\t1\n",
      "  (0, 1778)\t1\n",
      "  (0, 5814)\t1\n",
      "  (0, 20686)\t1\n",
      "  (0, 957)\t1\n",
      "  (0, 10897)\t1\n",
      "  (0, 8038)\t1\n",
      "  (0, 17756)\t1\n",
      "  (0, 16591)\t1\n",
      "  (0, 7917)\t1\n",
      "  (0, 9231)\t1\n",
      "  (0, 12355)\t1\n",
      "  (0, 2106)\t1\n",
      "  (0, 17734)\t1\n",
      "  (0, 10932)\t1\n",
      "  :\t:\n",
      "  (3062, 6068)\t1\n",
      "  (3062, 20439)\t1\n",
      "  (3062, 5726)\t1\n",
      "  (3062, 12567)\t1\n",
      "  (3063, 13877)\t1\n",
      "  (3063, 1652)\t1\n",
      "  (3063, 9768)\t1\n",
      "  (3063, 4909)\t1\n",
      "  (3063, 8007)\t2\n",
      "  (3063, 17500)\t1\n",
      "  (3063, 12325)\t1\n",
      "  (3063, 15392)\t1\n",
      "  (3063, 17572)\t1\n",
      "  (3063, 3112)\t1\n",
      "  (3063, 2135)\t1\n",
      "  (3063, 7335)\t1\n",
      "  (3063, 9205)\t1\n",
      "  (3063, 8576)\t1\n",
      "  (3063, 1980)\t1\n",
      "  (3063, 15496)\t1\n",
      "  (3063, 19791)\t1\n",
      "  (3063, 3133)\t1\n",
      "  (3063, 16758)\t1\n",
      "  (3063, 11028)\t1\n",
      "  (3063, 11291)\t1\n"
     ]
    }
   ],
   "source": [
    "print(x_train)\n",
    "#sparse matrix"
   ]
  },
  {
   "cell_type": "code",
   "execution_count": 149,
   "id": "54663e80",
   "metadata": {
    "collapsed": true
   },
   "outputs": [
    {
     "data": {
      "text/plain": [
       "'my wife took me here on my birthday for breakfast and it was excellent  the weather was perfect which made sitting outside overlooking their grounds an absolute pleasure  our waitress was excellent and our food arrived quickly on the semibusy saturday morning  it looked like the place fills up pretty quickly so the earlier you get here the better  do yourself a favor and get their bloody mary  it was phenomenal and simply the best ive ever had  im pretty sure they only use ingredients from their garden and blend them fresh when you order it  it was amazing  while everything on the menu looks excellent i had the white truffle scrambled eggs vegetable skillet and it was tasty and delicious  it came with  pieces of their griddled bread with was amazing and it absolutely made the meal complete  it was the best toast ive ever had  anyway i cant wait to go back'"
      ]
     },
     "execution_count": 149,
     "metadata": {},
     "output_type": "execute_result"
    }
   ],
   "source": [
    "x[0]"
   ]
  },
  {
   "cell_type": "code",
   "execution_count": null,
   "id": "b0ee39a6",
   "metadata": {},
   "outputs": [],
   "source": [
    "#Gmnderilen bir yorumun iyi/ kötü olduğunu tahmin etme"
   ]
  },
  {
   "cell_type": "code",
   "execution_count": 150,
   "id": "0805ad99",
   "metadata": {},
   "outputs": [],
   "source": [
    "from sklearn.naive_bayes import MultinomialNB\n",
    "#Classification\n",
    "#1 yıldız mı 5 yıldı zmı verdi"
   ]
  },
  {
   "cell_type": "code",
   "execution_count": 151,
   "id": "80916acf",
   "metadata": {},
   "outputs": [],
   "source": [
    "MB = MultinomialNB()"
   ]
  },
  {
   "cell_type": "code",
   "execution_count": 152,
   "id": "52adafad",
   "metadata": {},
   "outputs": [
    {
     "data": {
      "text/plain": [
       "MultinomialNB()"
      ]
     },
     "execution_count": 152,
     "metadata": {},
     "output_type": "execute_result"
    }
   ],
   "source": [
    "MB.fit(x_train,y_train)"
   ]
  },
  {
   "cell_type": "code",
   "execution_count": 153,
   "id": "e3892f8a",
   "metadata": {},
   "outputs": [],
   "source": [
    "from sklearn.metrics import accuracy_score"
   ]
  },
  {
   "cell_type": "code",
   "execution_count": 154,
   "id": "bde4c929",
   "metadata": {},
   "outputs": [],
   "source": [
    "tahmin = MB.predict(x_test)"
   ]
  },
  {
   "cell_type": "code",
   "execution_count": 155,
   "id": "ce277fdf",
   "metadata": {},
   "outputs": [
    {
     "data": {
      "text/plain": [
       "0.9041095890410958"
      ]
     },
     "execution_count": 155,
     "metadata": {},
     "output_type": "execute_result"
    }
   ],
   "source": [
    "accuracy_score(y_test,tahmin)\n",
    "#stopwordsu kaldırmadan denediğimizde başarı oranı değişmedi"
   ]
  },
  {
   "cell_type": "code",
   "execution_count": 156,
   "id": "0f7b43c9",
   "metadata": {},
   "outputs": [],
   "source": [
    "from sklearn.tree import DecisionTreeClassifier"
   ]
  },
  {
   "cell_type": "code",
   "execution_count": 157,
   "id": "6eaae90f",
   "metadata": {},
   "outputs": [],
   "source": [
    "D = DecisionTreeClassifier()"
   ]
  },
  {
   "cell_type": "code",
   "execution_count": 158,
   "id": "70c98240",
   "metadata": {},
   "outputs": [
    {
     "data": {
      "text/plain": [
       "DecisionTreeClassifier()"
      ]
     },
     "execution_count": 158,
     "metadata": {},
     "output_type": "execute_result"
    }
   ],
   "source": [
    "D.fit(x_train,y_train)"
   ]
  },
  {
   "cell_type": "code",
   "execution_count": 159,
   "id": "794c8abf",
   "metadata": {},
   "outputs": [],
   "source": [
    "tahmin1 = D.predict(x_test)"
   ]
  },
  {
   "cell_type": "code",
   "execution_count": 160,
   "id": "c56489b8",
   "metadata": {},
   "outputs": [
    {
     "data": {
      "text/plain": [
       "0.8542074363992173"
      ]
     },
     "execution_count": 160,
     "metadata": {},
     "output_type": "execute_result"
    }
   ],
   "source": [
    "accuracy_score(y_test,tahmin1)"
   ]
  },
  {
   "cell_type": "code",
   "execution_count": null,
   "id": "b361a469",
   "metadata": {},
   "outputs": [],
   "source": []
  },
  {
   "cell_type": "code",
   "execution_count": null,
   "id": "8b060298",
   "metadata": {},
   "outputs": [],
   "source": []
  }
 ],
 "metadata": {
  "kernelspec": {
   "display_name": "Python 3 (ipykernel)",
   "language": "python",
   "name": "python3"
  },
  "language_info": {
   "codemirror_mode": {
    "name": "ipython",
    "version": 3
   },
   "file_extension": ".py",
   "mimetype": "text/x-python",
   "name": "python",
   "nbconvert_exporter": "python",
   "pygments_lexer": "ipython3",
   "version": "3.9.12"
  }
 },
 "nbformat": 4,
 "nbformat_minor": 5
}
